{
 "cells": [
  {
   "cell_type": "code",
   "execution_count": 3,
   "metadata": {},
   "outputs": [],
   "source": [
    "import numpy as np"
   ]
  },
  {
   "attachments": {},
   "cell_type": "markdown",
   "metadata": {},
   "source": [
    "# Bootstrap采样\n",
    "\n",
    "> 假设n条数据,又放回的取n次,取到的数据去重后大约为原数据的63%"
   ]
  },
  {
   "cell_type": "code",
   "execution_count": 4,
   "metadata": {},
   "outputs": [],
   "source": [
    "length = []\n",
    "data = np.arange(10000)\n",
    "train_valid = []\n",
    "for i in range(10):\n",
    "    # replace=True  放回取样,可以取相同数字\n",
    "    # replace=False 不放回取样,不可以取相同数字\n",
    "    index = np.random.choice(data, 10000, replace=True)\n",
    "    unique_index = np.array(list(set(index)))\n",
    "    # 求原data和采样data的差集得到未取样的数据\n",
    "    unique_index_without = np.setdiff1d(data, unique_index)\n",
    "    train_valid.append([unique_index, unique_index_without])\n",
    "    length.append(len(unique_index))"
   ]
  },
  {
   "cell_type": "code",
   "execution_count": 5,
   "metadata": {},
   "outputs": [
    {
     "data": {
      "text/plain": [
       "[6320, 6246, 6307, 6306, 6369, 6307, 6310, 6314, 6317, 6328]"
      ]
     },
     "execution_count": 5,
     "metadata": {},
     "output_type": "execute_result"
    }
   ],
   "source": [
    "length[:10]"
   ]
  },
  {
   "cell_type": "code",
   "execution_count": 6,
   "metadata": {},
   "outputs": [
    {
     "data": {
      "text/plain": [
       "6312.4"
      ]
     },
     "execution_count": 6,
     "metadata": {},
     "output_type": "execute_result"
    }
   ],
   "source": [
    "# 平均覆盖63%\n",
    "np.array(length).mean()"
   ]
  },
  {
   "cell_type": "code",
   "execution_count": 7,
   "metadata": {},
   "outputs": [
    {
     "data": {
      "text/plain": [
       "6369"
      ]
     },
     "execution_count": 7,
     "metadata": {},
     "output_type": "execute_result"
    }
   ],
   "source": [
    "np.array(length).max()"
   ]
  },
  {
   "cell_type": "code",
   "execution_count": 8,
   "metadata": {},
   "outputs": [
    {
     "data": {
      "text/plain": [
       "6246"
      ]
     },
     "execution_count": 8,
     "metadata": {},
     "output_type": "execute_result"
    }
   ],
   "source": [
    "np.array(length).min()"
   ]
  },
  {
   "cell_type": "code",
   "execution_count": 13,
   "metadata": {},
   "outputs": [
    {
     "name": "stdout",
     "output_type": "stream",
     "text": [
      "6320 3680 0 6320 10000\n",
      "6246 3754 0 6246 10000\n",
      "6307 3693 0 6307 10000\n",
      "6306 3694 0 6306 10000\n",
      "6369 3631 0 6369 10000\n",
      "6307 3693 0 6307 10000\n",
      "6310 3690 0 6310 10000\n",
      "6314 3686 0 6314 10000\n",
      "6317 3683 0 6317 10000\n",
      "6328 3672 0 6328 10000\n"
     ]
    }
   ],
   "source": [
    "# 查看放回与不放回的长度\n",
    "for train, valid in train_valid:\n",
    "    print(len(train),\n",
    "          len(valid),\n",
    "          len(np.intersect1d(train, valid)),    # 交集 全为0,没有并集\n",
    "          len(np.setdiff1d(train, valid)),      # 差集 类似左连接,全是train\n",
    "          len(np.union1d(train, valid)))        # 并集 合并为总长度"
   ]
  },
  {
   "cell_type": "code",
   "execution_count": null,
   "metadata": {},
   "outputs": [],
   "source": []
  }
 ],
 "metadata": {
  "kernelspec": {
   "display_name": "pytorch",
   "language": "python",
   "name": "python3"
  },
  "language_info": {
   "codemirror_mode": {
    "name": "ipython",
    "version": 3
   },
   "file_extension": ".py",
   "mimetype": "text/x-python",
   "name": "python",
   "nbconvert_exporter": "python",
   "pygments_lexer": "ipython3",
   "version": "3.10.9"
  },
  "orig_nbformat": 4
 },
 "nbformat": 4,
 "nbformat_minor": 2
}
