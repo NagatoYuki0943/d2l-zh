{
 "cells": [
  {
   "cell_type": "code",
   "execution_count": 1,
   "metadata": {},
   "outputs": [],
   "source": [
    "import numpy as np\n",
    "from copy import deepcopy"
   ]
  },
  {
   "cell_type": "code",
   "execution_count": null,
   "metadata": {},
   "outputs": [],
   "source": [
    "class Bagging:\n",
    "    def __init__(self, base_learner, n_learners: int) -> None:\n",
    "        self.learners = [deepcopy(base_learner) for _ in range(n_learners)]\n",
    "\n",
    "    def fit(self, X, y):\n",
    "        for learner in self.learners:\n",
    "            examples = np.random.choice(\n",
    "                np.arange(len(X)), int(len(X)), replace=True)\n",
    "            learner.fit(X.iloc[examples, :], y.iloc[examples])\n",
    "\n",
    "    def predict(self, X):\n",
    "        preds = [learner.predict(X) for learner in self.learners]\n",
    "        return np.array(preds).mean(axis=0)"
   ]
  },
  {
   "cell_type": "code",
   "execution_count": null,
   "metadata": {},
   "outputs": [],
   "source": []
  }
 ],
 "metadata": {
  "kernelspec": {
   "display_name": "pytorch",
   "language": "python",
   "name": "python3"
  },
  "language_info": {
   "codemirror_mode": {
    "name": "ipython",
    "version": 3
   },
   "file_extension": ".py",
   "mimetype": "text/x-python",
   "name": "python",
   "nbconvert_exporter": "python",
   "pygments_lexer": "ipython3",
   "version": "3.10.10"
  },
  "orig_nbformat": 4
 },
 "nbformat": 4,
 "nbformat_minor": 2
}
