{
 "cells": [
  {
   "cell_type": "code",
   "execution_count": 1,
   "metadata": {},
   "outputs": [],
   "source": [
    "import numpy as np\n",
    "from copy import deepcopy"
   ]
  },
  {
   "cell_type": "code",
   "execution_count": null,
   "metadata": {},
   "outputs": [],
   "source": [
    "class GradientBoosting:\n",
    "    def __init__(self, base_learner, n_learners: int, learning_rate: float) -> None:\n",
    "        self.learners = [deepcopy(base_learner) for _ in range(n_learners)]\n",
    "        self.lr = learning_rate\n",
    "\n",
    "    def fit(self, X, y):\n",
    "        residual = y.copy()\n",
    "        for learner in self.learners:\n",
    "            learner.fit(X, residual)\n",
    "            residual -= self.lr * learner.predict(X)\n",
    "\n",
    "    def predict(self, X):\n",
    "        preds = [learner.predict(X) for learner in self.learners]\n",
    "        return np.array(preds).sum(axis=0) * self.lr"
   ]
  }
 ],
 "metadata": {
  "kernelspec": {
   "display_name": "pytorch",
   "language": "python",
   "name": "python3"
  },
  "language_info": {
   "codemirror_mode": {
    "name": "ipython",
    "version": 3
   },
   "file_extension": ".py",
   "mimetype": "text/x-python",
   "name": "python",
   "nbconvert_exporter": "python",
   "pygments_lexer": "ipython3",
   "version": "3.10.10"
  },
  "orig_nbformat": 4
 },
 "nbformat": 4,
 "nbformat_minor": 2
}
